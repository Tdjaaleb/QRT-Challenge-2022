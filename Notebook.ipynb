{
 "cells": [
  {
   "cell_type": "code",
   "execution_count": 29,
   "metadata": {},
   "outputs": [],
   "source": [
    "import pandas as pd\n",
    "import numpy as np\n",
    "import tensorflow as tf"
   ]
  },
  {
   "attachments": {},
   "cell_type": "markdown",
   "metadata": {},
   "source": [
    "### Importation des données"
   ]
  },
  {
   "cell_type": "code",
   "execution_count": 30,
   "metadata": {},
   "outputs": [],
   "source": [
    "X_train = pd.read_csv('https://raw.githubusercontent.com/Tdjaaleb/QRT-Challenge-2022/main/Data/X_train.csv', index_col=0, sep=',')\n",
    "X_train.columns.name = 'date'\n",
    "\n",
    "Y_train = pd.read_csv('https://raw.githubusercontent.com/Tdjaaleb/QRT-Challenge-2022/main/Data/Y_train.csv', index_col=0, sep=',')\n",
    "Y_train.columns.name = 'date'"
   ]
  },
  {
   "attachments": {},
   "cell_type": "markdown",
   "metadata": {},
   "source": [
    "### Preprocessing"
   ]
  },
  {
   "cell_type": "code",
   "execution_count": 31,
   "metadata": {},
   "outputs": [
    {
     "name": "stderr",
     "output_type": "stream",
     "text": [
      "C:\\Users\\Tom\\AppData\\Local\\Temp/ipykernel_19576/1711470191.py:1: FutureWarning: In a future version of pandas all arguments of concat except for the argument 'objs' will be keyword-only\n",
      "  X_train_reshape = pd.concat([ X_train.T.shift(i+1).stack(dropna=False) for i in range(250) ], 1).dropna()\n"
     ]
    }
   ],
   "source": [
    "X_train_reshape = pd.concat([ X_train.T.shift(i+1).stack(dropna=False) for i in range(250) ], 1).dropna()\n",
    "X_train_reshape.columns = pd.Index(range(1,251), name='timeLag')\n",
    "size = (25200, 250, 1)\n",
    "\n",
    "ar = np.ndarray(size)\n",
    "for i in range(25200):\n",
    "    new = pd.DataFrame(X_train_reshape.iloc[i])\n",
    "    ar[i]=new\n",
    "\n",
    "X = ar.reshape((25200, 250))\n",
    "\n",
    "size = (504,50)\n",
    "ar2 = np.ndarray(size)\n",
    "for i in range(504):\n",
    "    new = Y_train[f\"{i+250}\"]\n",
    "    ar2[i] = new\n",
    "\n",
    "Y = ar2.reshape(25200,1)"
   ]
  },
  {
   "attachments": {},
   "cell_type": "markdown",
   "metadata": {},
   "source": [
    "### Fonctions du challenge"
   ]
  },
  {
   "cell_type": "code",
   "execution_count": 32,
   "metadata": {},
   "outputs": [],
   "source": [
    "########################################### CheckOrthonormality\n",
    "def checkOrthonormality(A): \n",
    "    bool = True\n",
    "    D, F = A.shape   \n",
    "    Error = pd.DataFrame(A.T @ A - np.eye(F)).abs()\n",
    "    \n",
    "    if any(Error.unstack() > 1e-6):\n",
    "        bool = False\n",
    "     \n",
    "    return bool\n",
    "\n",
    "########################################### metric_train\n",
    "def metric_train(A, beta): \n",
    "    \n",
    "    if not checkOrthonormality(A):\n",
    "        return -1.0    \n",
    "    \n",
    "    Ypred = (X_train_reshape @ A @ beta).unstack().T         \n",
    "    Ytrue = Y_train\n",
    "    \n",
    "    Ytrue = Ytrue.div(np.sqrt((Ytrue**2).sum()), 1)    \n",
    "    Ypred = Ypred.div(np.sqrt((Ypred**2).sum()), 1)\n",
    "\n",
    "    meanOverlap = (Ytrue * Ypred).sum().mean()\n",
    "    \n",
    "    return  meanOverlap\n",
    "\n",
    "########################################### parametersTransform\n",
    "def parametersTransform(A, beta, D=250, F=10):\n",
    "    \n",
    "    if A.shape != (D, F):\n",
    "        print('A has not the good shape')\n",
    "        return\n",
    "    \n",
    "    if beta.shape[0] != F:\n",
    "        print('beta has not the good shape')\n",
    "        return        \n",
    "    \n",
    "    output = np.hstack( (np.hstack([A.T, beta.reshape((F, 1))])).T )\n",
    "    \n",
    "    return output"
   ]
  },
  {
   "attachments": {},
   "cell_type": "markdown",
   "metadata": {},
   "source": [
    "### Gram-Schmidt Algorithm"
   ]
  },
  {
   "cell_type": "code",
   "execution_count": 33,
   "metadata": {},
   "outputs": [],
   "source": [
    "#https://en.wikipedia.org/wiki/Gram%E2%80%93Schmidt_process\n",
    "\n",
    "def gramschmidt(V):\n",
    "  n, k = V.shape\n",
    "  U = np.zeros((n,k))\n",
    "  U[:,0] = V[:,0]/np.linalg.norm(V[:,0])\n",
    "  for i in range(1,k):\n",
    "    U[:,i]=V[:,i]\n",
    "    for j in range(0, i):\n",
    "      U[:,i]=U[:,i]-(U[:,j].T @ U[:,i]) * U[:,j]\n",
    "    if np.linalg.norm(U[:,i])!=0:\n",
    "      U[:,i] = U[:,i]/np.linalg.norm(U[:,i])\n",
    "    else:\n",
    "      U[:,i]=0\n",
    "  return(U)"
   ]
  },
  {
   "attachments": {},
   "cell_type": "markdown",
   "metadata": {},
   "source": [
    "### Contrainte d'orthonormalité"
   ]
  },
  {
   "cell_type": "code",
   "execution_count": 34,
   "metadata": {},
   "outputs": [],
   "source": [
    "#https://gist.github.com/dswah/9cee80674e2deea941430ec298f3f99e\n",
    "\n",
    "class Orthonormal(tf.keras.constraints.Constraint):\n",
    "    \"\"\"approximate Orthonormal weight constraint.\n",
    "    Constrains the weights incident to each hidden unit\n",
    "    to be approximately orthonormal\n",
    "    \n",
    "    # Arguments\n",
    "        beta: the strength of the constraint\n",
    "        \n",
    "    # References\n",
    "        https://arxiv.org/pdf/1710.04087.pdf\n",
    "    \"\"\"\n",
    "\n",
    "    def __init__(self, beta=0.01):\n",
    "        self.beta = beta\n",
    "\n",
    "    def __call__(self, w):\n",
    "        eye = tf.linalg.matmul(w, w, transpose_b=True)\n",
    "        return (1 + self.beta) * w - self.beta * tf.linalg.matmul(eye, w)\n",
    "\n",
    "    def get_config(self):\n",
    "        return {'beta': self.beta}"
   ]
  },
  {
   "attachments": {},
   "cell_type": "markdown",
   "metadata": {},
   "source": [
    "### Création du modèle"
   ]
  },
  {
   "cell_type": "code",
   "execution_count": 35,
   "metadata": {},
   "outputs": [],
   "source": [
    "def create_model():\n",
    "  model = tf.keras.Sequential()\n",
    "  model.add(tf.keras.layers.Dense(10, \n",
    "                                  activation='linear',\n",
    "                                  kernel_initializer=tf.keras.initializers.Orthogonal(),\n",
    "                                  kernel_constraint=Orthonormal(),\n",
    "                                  use_bias=False))\n",
    "  model.add(tf.keras.layers.Dense(1, activation='linear', use_bias=False))\n",
    "  return model"
   ]
  },
  {
   "attachments": {},
   "cell_type": "markdown",
   "metadata": {},
   "source": [
    "### Entraînement du modèle"
   ]
  },
  {
   "cell_type": "code",
   "execution_count": 36,
   "metadata": {},
   "outputs": [
    {
     "name": "stdout",
     "output_type": "stream",
     "text": [
      "Model: \"sequential_8\"\n",
      "_________________________________________________________________\n",
      " Layer (type)                Output Shape              Param #   \n",
      "=================================================================\n",
      " dense_16 (Dense)            (25200, 10)               2500      \n",
      "                                                                 \n",
      " dense_17 (Dense)            (25200, 1)                10        \n",
      "                                                                 \n",
      "=================================================================\n",
      "Total params: 2,510\n",
      "Trainable params: 2,510\n",
      "Non-trainable params: 0\n",
      "_________________________________________________________________\n",
      "None\n",
      "Epoch 1/40\n",
      "50/50 [==============================] - 0s 7ms/step - loss: -0.0050\n",
      "Epoch 2/40\n",
      "50/50 [==============================] - 0s 7ms/step - loss: -0.0158\n",
      "Epoch 3/40\n",
      "50/50 [==============================] - 0s 7ms/step - loss: -0.0263\n",
      "Epoch 4/40\n",
      "50/50 [==============================] - 0s 7ms/step - loss: -0.0364\n",
      "Epoch 5/40\n",
      "50/50 [==============================] - 0s 7ms/step - loss: -0.0460\n",
      "Epoch 6/40\n",
      "50/50 [==============================] - 0s 7ms/step - loss: -0.0551\n",
      "Epoch 7/40\n",
      "50/50 [==============================] - 0s 7ms/step - loss: -0.0636\n",
      "Epoch 8/40\n",
      "50/50 [==============================] - 0s 7ms/step - loss: -0.0715\n",
      "Epoch 9/40\n",
      "50/50 [==============================] - 0s 7ms/step - loss: -0.0787\n",
      "Epoch 10/40\n",
      "50/50 [==============================] - 0s 7ms/step - loss: -0.0854\n",
      "Epoch 11/40\n",
      "50/50 [==============================] - 0s 6ms/step - loss: -0.0914\n",
      "Epoch 12/40\n",
      "50/50 [==============================] - 0s 7ms/step - loss: -0.0969\n",
      "Epoch 13/40\n",
      "50/50 [==============================] - 0s 7ms/step - loss: -0.1018\n",
      "Epoch 14/40\n",
      "50/50 [==============================] - 0s 7ms/step - loss: -0.1062\n",
      "Epoch 15/40\n",
      "50/50 [==============================] - 0s 7ms/step - loss: -0.1101\n",
      "Epoch 16/40\n",
      "50/50 [==============================] - 0s 7ms/step - loss: -0.1136\n",
      "Epoch 17/40\n",
      "50/50 [==============================] - 0s 7ms/step - loss: -0.1167\n",
      "Epoch 18/40\n",
      "50/50 [==============================] - 0s 7ms/step - loss: -0.1194\n",
      "Epoch 19/40\n",
      "50/50 [==============================] - 0s 7ms/step - loss: -0.1218\n",
      "Epoch 20/40\n",
      "50/50 [==============================] - 0s 7ms/step - loss: -0.1240\n",
      "Epoch 21/40\n",
      "50/50 [==============================] - 0s 7ms/step - loss: -0.1259\n",
      "Epoch 22/40\n",
      "50/50 [==============================] - 0s 7ms/step - loss: -0.1275\n",
      "Epoch 23/40\n",
      "50/50 [==============================] - 0s 7ms/step - loss: -0.1290\n",
      "Epoch 24/40\n",
      "50/50 [==============================] - 0s 7ms/step - loss: -0.1303\n",
      "Epoch 25/40\n",
      "50/50 [==============================] - 0s 7ms/step - loss: -0.1314\n",
      "Epoch 26/40\n",
      "50/50 [==============================] - 0s 7ms/step - loss: -0.1324\n",
      "Epoch 27/40\n",
      "50/50 [==============================] - 0s 7ms/step - loss: -0.1332\n",
      "Epoch 28/40\n",
      "50/50 [==============================] - 0s 7ms/step - loss: -0.1340\n",
      "Epoch 29/40\n",
      "50/50 [==============================] - 0s 7ms/step - loss: -0.1347\n",
      "Epoch 30/40\n",
      "50/50 [==============================] - 0s 7ms/step - loss: -0.1352\n",
      "Epoch 31/40\n",
      "50/50 [==============================] - 0s 7ms/step - loss: -0.1358\n",
      "Epoch 32/40\n",
      "50/50 [==============================] - 0s 6ms/step - loss: -0.1362\n",
      "Epoch 33/40\n",
      "50/50 [==============================] - 0s 7ms/step - loss: -0.1366\n",
      "Epoch 34/40\n",
      "50/50 [==============================] - 0s 7ms/step - loss: -0.1369\n",
      "Epoch 35/40\n",
      "50/50 [==============================] - 0s 7ms/step - loss: -0.1372\n",
      "Epoch 36/40\n",
      "50/50 [==============================] - 0s 7ms/step - loss: -0.1375\n",
      "Epoch 37/40\n",
      "50/50 [==============================] - 0s 7ms/step - loss: -0.1377\n",
      "Epoch 38/40\n",
      "50/50 [==============================] - 0s 7ms/step - loss: -0.1379\n",
      "Epoch 39/40\n",
      "50/50 [==============================] - 0s 6ms/step - loss: -0.1381\n",
      "Epoch 40/40\n",
      "50/50 [==============================] - 0s 6ms/step - loss: -0.1382\n"
     ]
    }
   ],
   "source": [
    "#Paramètres\n",
    "batch = 512\n",
    "opti = tf.keras.optimizers.SGD(learning_rate=0.01)\n",
    "loss = tf.keras.losses.CosineSimilarity(axis=0,reduction=tf.keras.losses.Reduction.SUM_OVER_BATCH_SIZE)\n",
    "\n",
    "#Création\n",
    "model = create_model()\n",
    "model.build([25200,250])\n",
    "print(model.summary())\n",
    "\n",
    "model.compile(loss=loss, optimizer=opti, steps_per_execution = 100, run_eagerly=True)\n",
    "\n",
    "#Entraînement\n",
    "tensor_X = tf.convert_to_tensor(X)\n",
    "tensor_Y = tf.convert_to_tensor(Y, dtype='float64')\n",
    "\n",
    "history = model.fit(tensor_X, tensor_Y, batch_size=batch, epochs=40, shuffle=False, use_multiprocessing=True)"
   ]
  },
  {
   "attachments": {},
   "cell_type": "markdown",
   "metadata": {},
   "source": [
    "### Résultats et Export"
   ]
  },
  {
   "cell_type": "code",
   "execution_count": 37,
   "metadata": {},
   "outputs": [
    {
     "name": "stdout",
     "output_type": "stream",
     "text": [
      "Orthonormality :  True\n",
      "Cosine Similarity :  0.1333829309170633\n"
     ]
    }
   ],
   "source": [
    "A = model.get_weights()[0]\n",
    "B = model.get_weights()[1]\n",
    "At = gramschmidt(A)\n",
    "\n",
    "print(\"Orthonormality : \", checkOrthonormality(At))\n",
    "print(\"Cosine Similarity : \", metric_train(At,B))"
   ]
  },
  {
   "cell_type": "code",
   "execution_count": null,
   "metadata": {},
   "outputs": [],
   "source": [
    "output = parametersTransform(At,B)\n",
    "pd.DataFrame(output).to_csv('AnswerQRT.csv')"
   ]
  }
 ],
 "metadata": {
  "kernelspec": {
   "display_name": "Python 3",
   "language": "python",
   "name": "python3"
  },
  "language_info": {
   "codemirror_mode": {
    "name": "ipython",
    "version": 3
   },
   "file_extension": ".py",
   "mimetype": "text/x-python",
   "name": "python",
   "nbconvert_exporter": "python",
   "pygments_lexer": "ipython3",
   "version": "3.9.9"
  },
  "orig_nbformat": 4,
  "vscode": {
   "interpreter": {
    "hash": "0963322607b61fb85e60b3c63581df9ac5d2bad434271279b035d9d92170e8cb"
   }
  }
 },
 "nbformat": 4,
 "nbformat_minor": 2
}
